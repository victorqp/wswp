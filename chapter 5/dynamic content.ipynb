{
 "cells": [
  {
   "cell_type": "code",
   "execution_count": 11,
   "metadata": {},
   "outputs": [],
   "source": [
    "import json\n",
    "import string\n",
    "import sys\n",
    "sys.path.append('../')\n",
    "from common.utils import *\n",
    "from common.db_cache import DBCache\n",
    "import time\n",
    "import csv\n",
    "try:\n",
    "    from PySide.QtGui import QApplication\n",
    "    from PySide.QtCore import QUrl, QEventLoop, QTimer\n",
    "    from PySide.QtWebKit import QWebView\n",
    "except ImportError:\n",
    "    from PyQt5.QtWidgets import QApplication\n",
    "    from PyQt5.QtCore import QUrl, QEventLoop, QTimer\n",
    "    from PyQt5.QtWebKitWidgets import QWebView\n",
    "import re\n",
    "import lxml.html\n",
    "from selenium import webdriver"
   ]
  },
  {
   "cell_type": "code",
   "execution_count": 2,
   "metadata": {},
   "outputs": [
    {
     "name": "stdout",
     "output_type": "stream",
     "text": [
      "1st download: 0.05 seconds\n"
     ]
    }
   ],
   "source": [
    "FIELDS = ('area', 'population', 'iso', 'country', 'capital', 'continent', 'tld', 'currency_code', 'currency_name', 'phone', 'postal_code_format', 'postal_code_regex', 'languages', 'neighbours')\n",
    "\n",
    "\n",
    "\n",
    "template_url = 'http://example.webscraping.com/places/ajax/search.json?page={}&page_size=10&search_term={}'\n",
    "countries = set()\n",
    "download = Downloader(cache=DBCache())\n",
    "\n",
    "start = time.time()\n",
    "for letter in string.ascii_lowercase:\n",
    "    page = 0\n",
    "    while True:\n",
    "        html = download(template_url.format(page, letter))\n",
    "        try:\n",
    "            ajax = json.loads(html)\n",
    "        except ValueError as e:\n",
    "            print(e)\n",
    "            ajax = None\n",
    "        else:\n",
    "            for record in ajax['records']:\n",
    "                countries.add(record['country'])\n",
    "        page += 1\n",
    "        if ajax is None or page >= ajax['num_pages']:\n",
    "            break\n",
    "    \n",
    "open('countries.txt', 'w').write('\\n'.join(sorted(countries)))\n",
    "end = time.time()\n",
    "print(\"1st download: %.2f seconds\" % (end-start))"
   ]
  },
  {
   "cell_type": "code",
   "execution_count": 3,
   "metadata": {},
   "outputs": [
    {
     "name": "stdout",
     "output_type": "stream",
     "text": [
      "1st download: 0.00 seconds\n"
     ]
    }
   ],
   "source": [
    "\n",
    "\n",
    "start = time.time()\n",
    "f = open('countries.csv', 'w')\n",
    "writer = csv.writer(f)\n",
    "html = download('http://example.webscraping.com/places/ajax/search.json?page=0&page_size=1000&search_term=.')\n",
    "ajax = json.loads(html)\n",
    "for record in ajax['records']:\n",
    "    writer.writerow([record['country']])\n",
    "f.close()\n",
    "end = time.time()\n",
    "print(\"1st download: %.2f seconds\" % (end-start))"
   ]
  },
  {
   "cell_type": "code",
   "execution_count": 4,
   "metadata": {},
   "outputs": [
    {
     "name": "stdout",
     "output_type": "stream",
     "text": [
      "['Afghanistan', 'Aland Islands', 'Albania', 'Algeria', 'American Samoa', 'Andorra', 'Angola', 'Anguilla', 'Antarctica', 'Antigua and Barbuda', 'Argentina', 'Armenia', 'Aruba', 'Australia', 'Austria', 'Azerbaijan', 'Bahamas', 'Bahrain', 'Bangladesh', 'Barbados', 'Belarus', 'Belgium', 'Belize', 'Benin', 'Bermuda', 'Bhutan', 'Bolivia', 'Bonaire, Saint Eustatius and Saba', 'Bosnia and Herzegovina', 'Botswana', 'Bouvet Island', 'Brazil', 'British Indian Ocean Territory', 'British Virgin Islands', 'Brunei', 'Bulgaria', 'Burkina Faso', 'Burundi', 'Cambodia', 'Cameroon', 'Canada', 'Cape Verde', 'Cayman Islands', 'Central African Republic', 'Chad', 'Chile', 'China', 'Christmas Island', 'Cocos Islands', 'Colombia', 'Comoros', 'Cook Islands', 'Costa Rica', 'Croatia', 'Cuba', 'Curacao', 'Cyprus', 'Czech Republic', 'Democratic Republic of the Congo', 'Denmark', 'Djibouti', 'Dominica', 'Dominican Republic', 'East Timor', 'Ecuador', 'Egypt', 'El Salvador', 'Equatorial Guinea', 'Eritrea', 'Estonia', 'Ethiopia', 'Falkland Islands', 'Faroe Islands', 'Fiji', 'Finland', 'France', 'French Guiana', 'French Polynesia', 'French Southern Territories', 'Gabon', 'Gambia', 'Georgia', 'Germany', 'Ghana', 'Gibraltar', 'Greece', 'Greenland', 'Grenada', 'Guadeloupe', 'Guam', 'Guatemala', 'Guernsey', 'Guinea', 'Guinea-Bissau', 'Guyana', 'Haiti', 'Heard Island and McDonald Islands', 'Honduras', 'Hong Kong', 'Hungary', 'Iceland', 'India', 'Indonesia', 'Iran', 'Iraq', 'Ireland', 'Isle of Man', 'Israel', 'Italy', 'Ivory Coast', 'Jamaica', 'Japan', 'Jersey', 'Jordan', 'Kazakhstan', 'Kenya', 'Kiribati', 'Kosovo', 'Kuwait', 'Kyrgyzstan', 'Laos', 'Latvia', 'Lebanon', 'Lesotho', 'Liberia', 'Libya', 'Liechtenstein', 'Lithuania', 'Luxembourg', 'Macao', 'Macedonia', 'Madagascar', 'Malawi', 'Malaysia', 'Maldives', 'Mali', 'Malta', 'Marshall Islands', 'Martinique', 'Mauritania', 'Mauritius', 'Mayotte', 'Mexico', 'Micronesia', 'Moldova', 'Monaco', 'Mongolia', 'Montenegro', 'Montserrat', 'Morocco', 'Mozambique', 'Myanmar', 'Namibia', 'Nauru', 'Nepal', 'Netherlands', 'Netherlands Antilles', 'New Caledonia', 'New Zealand', 'Nicaragua', 'Niger', 'Nigeria', 'Niue', 'Norfolk Island', 'North Korea', 'Northern Mariana Islands', 'Norway', 'Oman', 'Pakistan', 'Palau', 'Palestinian Territory', 'Panama', 'Papua New Guinea', 'Paraguay', 'Peru', 'Philippines', 'Pitcairn', 'Poland', 'Portugal', 'Puerto Rico', 'Qatar', 'Republic of the Congo', 'Reunion', 'Romania', 'Russia', 'Rwanda', 'Saint Barthelemy', 'Saint Helena', 'Saint Kitts and Nevis', 'Saint Lucia', 'Saint Martin', 'Saint Pierre and Miquelon', 'Saint Vincent and the Grenadines', 'Samoa', 'San Marino', 'Sao Tome and Principe', 'Saudi Arabia', 'Senegal', 'Serbia', 'Serbia and Montenegro', 'Seychelles', 'Sierra Leone', 'Singapore', 'Sint Maarten', 'Slovakia', 'Slovenia', 'Solomon Islands', 'Somalia', 'South Africa', 'South Georgia and the South Sandwich Islands', 'South Korea', 'South Sudan', 'Spain', 'Sri Lanka', 'Sudan', 'Suriname', 'Svalbard and Jan Mayen', 'Swaziland', 'Sweden', 'Switzerland', 'Syria', 'Taiwan', 'Tajikistan', 'Tanzania', 'Thailand', 'Togo', 'Tokelau', 'Tonga', 'Trinidad and Tobago', 'Tunisia', 'Turkey', 'Turkmenistan', 'Turks and Caicos Islands', 'Tuvalu', 'U.S. Virgin Islands', 'Uganda', 'Ukraine', 'United Arab Emirates', 'United Kingdom', 'United States', 'United States Minor Outlying Islands', 'Uruguay', 'Uzbekistan', 'Vanuatu', 'Vatican', 'Venezuela', 'Vietnam', 'Wallis and Futuna', 'Western Sahara', 'Yemen', 'Zambia', 'Zimbabwe']\n"
     ]
    }
   ],
   "source": [
    "app = QApplication([])\n",
    "webview = QWebView()\n",
    "loop = QEventLoop()\n",
    "webview.loadFinished.connect(loop.quit)\n",
    "webview.load(QUrl('http://example.webscraping.com/places/default/search'))\n",
    "loop.exec_()\n",
    "\n",
    "webview.show()\n",
    "frame = webview.page().mainFrame()\n",
    "frame.findFirstElement('#search_term').setAttribute('value', '.')\n",
    "frame.findFirstElement('#page_size option:checked').setPlainText('1000')\n",
    "frame.findFirstElement('#search').evaluateJavaScript('this.click()')\n",
    "app.exec_()\n",
    "\n",
    "elements = None\n",
    "while not elements:\n",
    "    app.processEvents()\n",
    "    elements = frame.findAllElements('#results a')\n",
    "countries = [e.toPlainText().strip() for e in elements]\n",
    "print(countries)"
   ]
  },
  {
   "cell_type": "code",
   "execution_count": 5,
   "metadata": {
    "collapsed": true
   },
   "outputs": [],
   "source": [
    "# encapsulate webkit rendering into a class\n",
    "class BrowserRender(QWebView):  \n",
    "    def __init__(self, display=True):\n",
    "        self.app = QApplication([])\n",
    "        QWebView.__init__(self)\n",
    "        if display:\n",
    "            self.show() # show the browser\n",
    "\n",
    "    def open(self, url, timeout=60):\n",
    "        \"\"\"Wait for download to complete and return result\"\"\"\n",
    "        loop = QEventLoop()\n",
    "        timer = QTimer()\n",
    "        timer.setSingleShot(True)\n",
    "        timer.timeout.connect(loop.quit)\n",
    "        self.loadFinished.connect(loop.quit)\n",
    "        self.load(QUrl(url))\n",
    "        timer.start(timeout * 1000)\n",
    "        loop.exec_() # delay here until download finished\n",
    "        if timer.isActive():\n",
    "            # downloaded successfully\n",
    "            timer.stop()\n",
    "            return self.html()\n",
    "        else:\n",
    "            # timed out\n",
    "            print('Request timed out:', url)\n",
    "\n",
    "    def html(self):\n",
    "        \"\"\"Shortcut to return the current HTML\"\"\"\n",
    "        return self.page().mainFrame().toHtml()\n",
    "\n",
    "    def find(self, pattern):\n",
    "        \"\"\"Find all elements that match the pattern\"\"\"\n",
    "        return self.page().mainFrame().findAllElements(pattern)\n",
    "\n",
    "    def attr(self, pattern, name, value):\n",
    "        \"\"\"Set attribute for matching elements\"\"\"\n",
    "        for e in self.find(pattern):\n",
    "            e.setAttribute(name, value)\n",
    "\n",
    "    def text(self, pattern, value):\n",
    "        \"\"\"Set attribute for matching elements\"\"\"\n",
    "        for e in self.find(pattern):\n",
    "            e.setPlainText(value)\n",
    "\n",
    "    def click(self, pattern):\n",
    "        \"\"\"Click matching elements\"\"\"\n",
    "        for e in self.find(pattern):\n",
    "            e.evaluateJavaScript(\"this.click()\")\n",
    "    \n",
    "    def show_res(self):\n",
    "        \"\"\"Show execution result in pop-up window\"\"\"\n",
    "        self.app.exec_()\n",
    "\n",
    "    def wait_load(self, pattern, timeout=60):\n",
    "        \"\"\"Wait for this pattern to be found in webpage and return matches\"\"\"\n",
    "        deadline = time.time() + timeout\n",
    "        while time.time() < deadline:\n",
    "            self.app.processEvents()\n",
    "            matches = self.find(pattern)\n",
    "            if matches:\n",
    "                return matches\n",
    "        print('Wait load timed out')"
   ]
  },
  {
   "cell_type": "code",
   "execution_count": 6,
   "metadata": {},
   "outputs": [],
   "source": [
    "br = BrowserRender()\n",
    "br.open('http://example.webscraping.com/places/default/search')\n",
    "br.attr('#search_term', 'value', '.')\n",
    "br.text('#page_size option:checked', '1000')\n",
    "br.click('#search')\n",
    "br.show_res()\n",
    "\n",
    "elements = br.wait_load('#results a')\n",
    "\n",
    "f = open('countries.csv', 'w')\n",
    "writer = csv.writer(f)\n",
    "for country in [e.toPlainText().strip() for e in elements]:\n",
    "    writer.writerow([country])\n",
    "f.close()"
   ]
  },
  {
   "cell_type": "code",
   "execution_count": 23,
   "metadata": {},
   "outputs": [
    {
     "name": "stdout",
     "output_type": "stream",
     "text": [
      "['Afghanistan', 'Aland Islands', 'Albania', 'Algeria', 'American Samoa', 'Andorra', 'Angola', 'Anguilla', 'Antarctica', 'Antigua and Barbuda', 'Argentina', 'Armenia', 'Aruba', 'Australia', 'Austria', 'Azerbaijan', 'Bahamas', 'Bahrain', 'Bangladesh', 'Barbados', 'Belarus', 'Belgium', 'Belize', 'Benin', 'Bermuda', 'Bhutan', 'Bolivia', 'Bonaire, Saint Eustatius and Saba', 'Bosnia and Herzegovina', 'Botswana', 'Bouvet Island', 'Brazil', 'British Indian Ocean Territory', 'British Virgin Islands', 'Brunei', 'Bulgaria', 'Burkina Faso', 'Burundi', 'Cambodia', 'Cameroon', 'Canada', 'Cape Verde', 'Cayman Islands', 'Central African Republic', 'Chad', 'Chile', 'China', 'Christmas Island', 'Cocos Islands', 'Colombia', 'Comoros', 'Cook Islands', 'Costa Rica', 'Croatia', 'Cuba', 'Curacao', 'Cyprus', 'Czech Republic', 'Democratic Republic of the Congo', 'Denmark', 'Djibouti', 'Dominica', 'Dominican Republic', 'East Timor', 'Ecuador', 'Egypt', 'El Salvador', 'Equatorial Guinea', 'Eritrea', 'Estonia', 'Ethiopia', 'Falkland Islands', 'Faroe Islands', 'Fiji', 'Finland', 'France', 'French Guiana', 'French Polynesia', 'French Southern Territories', 'Gabon', 'Gambia', 'Georgia', 'Germany', 'Ghana', 'Gibraltar', 'Greece', 'Greenland', 'Grenada', 'Guadeloupe', 'Guam', 'Guatemala', 'Guernsey', 'Guinea', 'Guinea-Bissau', 'Guyana', 'Haiti', 'Heard Island and McDonald Islands', 'Honduras', 'Hong Kong', 'Hungary', 'Iceland', 'India', 'Indonesia', 'Iran', 'Iraq', 'Ireland', 'Isle of Man', 'Israel', 'Italy', 'Ivory Coast', 'Jamaica', 'Japan', 'Jersey', 'Jordan', 'Kazakhstan', 'Kenya', 'Kiribati', 'Kosovo', 'Kuwait', 'Kyrgyzstan', 'Laos', 'Latvia', 'Lebanon', 'Lesotho', 'Liberia', 'Libya', 'Liechtenstein', 'Lithuania', 'Luxembourg', 'Macao', 'Macedonia', 'Madagascar', 'Malawi', 'Malaysia', 'Maldives', 'Mali', 'Malta', 'Marshall Islands', 'Martinique', 'Mauritania', 'Mauritius', 'Mayotte', 'Mexico', 'Micronesia', 'Moldova', 'Monaco', 'Mongolia', 'Montenegro', 'Montserrat', 'Morocco', 'Mozambique', 'Myanmar', 'Namibia', 'Nauru', 'Nepal', 'Netherlands', 'Netherlands Antilles', 'New Caledonia', 'New Zealand', 'Nicaragua', 'Niger', 'Nigeria', 'Niue', 'Norfolk Island', 'North Korea', 'Northern Mariana Islands', 'Norway', 'Oman', 'Pakistan', 'Palau', 'Palestinian Territory', 'Panama', 'Papua New Guinea', 'Paraguay', 'Peru', 'Philippines', 'Pitcairn', 'Poland', 'Portugal', 'Puerto Rico', 'Qatar', 'Republic of the Congo', 'Reunion', 'Romania', 'Russia', 'Rwanda', 'Saint Barthelemy', 'Saint Helena', 'Saint Kitts and Nevis', 'Saint Lucia', 'Saint Martin', 'Saint Pierre and Miquelon', 'Saint Vincent and the Grenadines', 'Samoa', 'San Marino', 'Sao Tome and Principe', 'Saudi Arabia', 'Senegal', 'Serbia', 'Serbia and Montenegro', 'Seychelles', 'Sierra Leone', 'Singapore', 'Sint Maarten', 'Slovakia', 'Slovenia', 'Solomon Islands', 'Somalia', 'South Africa', 'South Georgia and the South Sandwich Islands', 'South Korea', 'South Sudan', 'Spain', 'Sri Lanka', 'Sudan', 'Suriname', 'Svalbard and Jan Mayen', 'Swaziland', 'Sweden', 'Switzerland', 'Syria', 'Taiwan', 'Tajikistan', 'Tanzania', 'Thailand', 'Togo', 'Tokelau', 'Tonga', 'Trinidad and Tobago', 'Tunisia', 'Turkey', 'Turkmenistan', 'Turks and Caicos Islands', 'Tuvalu', 'U.S. Virgin Islands', 'Uganda', 'Ukraine', 'United Arab Emirates', 'United Kingdom', 'United States', 'United States Minor Outlying Islands', 'Uruguay', 'Uzbekistan', 'Vanuatu', 'Vatican', 'Venezuela', 'Vietnam', 'Wallis and Futuna', 'Western Sahara', 'Yemen', 'Zambia', 'Zimbabwe']\n"
     ]
    }
   ],
   "source": [
    "# use selenium library\n",
    "driver = webdriver.Chrome('D:\\Downloads\\chromedriver_win32\\chromedriver.exe')\n",
    "driver.get('http://example.webscraping.com/places/default/search')\n",
    "driver.find_element_by_id('search_term').send_keys('.')\n",
    "driver.execute_script(\"document.getElementById('page_size').options[1].text = '1000'\");\n",
    "driver.find_element_by_id('search').click()\n",
    "driver.implicitly_wait(30)\n",
    "links = driver.find_elements_by_css_selector('#results a')\n",
    "countries = [link.text for link in links]\n",
    "driver.close()\n",
    "print(countries)"
   ]
  },
  {
   "cell_type": "code",
   "execution_count": null,
   "metadata": {
    "collapsed": true
   },
   "outputs": [],
   "source": []
  }
 ],
 "metadata": {
  "kernelspec": {
   "display_name": "Python 3",
   "language": "python",
   "name": "python3"
  },
  "language_info": {
   "codemirror_mode": {
    "name": "ipython",
    "version": 3
   },
   "file_extension": ".py",
   "mimetype": "text/x-python",
   "name": "python",
   "nbconvert_exporter": "python",
   "pygments_lexer": "ipython3",
   "version": "3.6.1"
  }
 },
 "nbformat": 4,
 "nbformat_minor": 2
}
