{
 "cells": [
  {
   "cell_type": "code",
   "execution_count": 1,
   "metadata": {
    "collapsed": true
   },
   "outputs": [],
   "source": [
    "import urllib.request as urlreq\n",
    "import urllib.error as urlerr\n",
    "import urllib.parse as urlparse\n",
    "import urllib.robotparser as urlrp\n",
    "from bs4 import BeautifulSoup\n",
    "import re\n",
    "import datetime\n",
    "import time\n",
    "import sys\n",
    "sys.path.append('../')\n",
    "from common.utils import *\n",
    "from common.disk_cache import DiskCache\n",
    "from common.db_cache import DBCache\n",
    "from datetime import timedelta\n",
    "\n",
    "def link_crawler(seed_url, link_regex, delay=3, max_depth=-1, max_urls=-1, user_agent='wswp', proxies=None, num_retries=1, scrape_callback=None, cache=None):\n",
    "    crawl_queue = [seed_url]\n",
    "    seen = {seed_url:0}\n",
    "    num_urls = 0\n",
    "    rp = urlrp.RobotFileParser()\n",
    "    rp.set_url(urlparse.urljoin(seed_url, '/robots.txt'))\n",
    "    rp.read()\n",
    "    D = Downloader(delay=delay, user_agent=user_agent,\n",
    "                  proxies=proxies, num_retries=num_retries, cache=cache)\n",
    "    while crawl_queue:\n",
    "        url = crawl_queue.pop()\n",
    "        depth = seen[url]\n",
    "        if rp.can_fetch(user_agent, url):\n",
    "            html = D(url)\n",
    "            if scrape_callback:\n",
    "                scrape_callback(url, html)\n",
    "            if depth != max_depth:\n",
    "                for link in get_links(html.decode()):\n",
    "                    # skip all login pages\n",
    "                    if re.search('login|register', link):\n",
    "                        continue\n",
    "                    if re.search(link_regex, link):\n",
    "                        # form absolute link\n",
    "                        link = urlparse.urljoin(seed_url, link)\n",
    "                        # check if this link is already seen\n",
    "                        if link not in seen:\n",
    "                            seen[link] = depth + 1\n",
    "                            crawl_queue.append(link)\n",
    "        else:\n",
    "            print('blocked by robots.txt, ', url)\n",
    "                    \n",
    "    return seen"
   ]
  },
  {
   "cell_type": "code",
   "execution_count": 2,
   "metadata": {
    "scrolled": true
   },
   "outputs": [
    {
     "name": "stdout",
     "output_type": "stream",
     "text": [
      "Downloading:  http://example.webscraping.com\n",
      "Downloading:  http://example.webscraping.com/places/default/index/1\n",
      "Downloading:  http://example.webscraping.com/places/default/index/2\n",
      "Downloading:  http://example.webscraping.com/places/default/index/0\n",
      "Downloading:  http://example.webscraping.com/places/default/view/Barbados-20\n",
      "Downloading:  http://example.webscraping.com/places/default/view/Bangladesh-19\n",
      "Downloading:  http://example.webscraping.com/places/default/view/Bahrain-18\n",
      "Downloading:  http://example.webscraping.com/places/default/view/Bahamas-17\n",
      "Downloading:  http://example.webscraping.com/places/default/view/Azerbaijan-16\n",
      "Downloading:  http://example.webscraping.com/places/default/view/Austria-15\n",
      "Downloading:  http://example.webscraping.com/places/default/view/Australia-14\n",
      "Downloading:  http://example.webscraping.com/places/default/view/Aruba-13\n",
      "Downloading:  http://example.webscraping.com/places/default/view/Armenia-12\n",
      "Downloading:  http://example.webscraping.com/places/default/view/Argentina-11\n",
      "Downloading:  http://example.webscraping.com/places/default/view/Antigua-and-Barbuda-10\n",
      "Downloading:  http://example.webscraping.com/places/default/view/Antarctica-9\n",
      "Downloading:  http://example.webscraping.com/places/default/view/Anguilla-8\n",
      "Downloading:  http://example.webscraping.com/places/default/view/Angola-7\n",
      "Downloading:  http://example.webscraping.com/places/default/view/Andorra-6\n",
      "Downloading:  http://example.webscraping.com/places/default/view/American-Samoa-5\n",
      "Downloading:  http://example.webscraping.com/places/default/view/Algeria-4\n",
      "Downloading:  http://example.webscraping.com/places/default/view/Albania-3\n",
      "Downloading:  http://example.webscraping.com/places/default/view/Aland-Islands-2\n",
      "Downloading:  http://example.webscraping.com/places/default/view/Afghanistan-1\n",
      "Downloading:  http://example.webscraping.com/places/default/index\n",
      "download without cache: 83.24 seconds\n"
     ]
    }
   ],
   "source": [
    "\n",
    "# first time, no cache\n",
    "start = time.time()\n",
    "all_links = link_crawler('http://example.webscraping.com', '/(index|view)', max_depth=2, cache=DiskCache())\n",
    "end = time.time()\n",
    "print(\"download without cache: %.2f seconds\" % (end-start))"
   ]
  },
  {
   "cell_type": "code",
   "execution_count": 3,
   "metadata": {},
   "outputs": [
    {
     "name": "stdout",
     "output_type": "stream",
     "text": [
      "download with cache: 0.41 seconds\n"
     ]
    }
   ],
   "source": [
    "#second time, with cache\n",
    "start = time.time()\n",
    "all_links = link_crawler('http://example.webscraping.com', '/(index|view)', max_depth=2, cache=DiskCache())\n",
    "end = time.time()\n",
    "print(\"download with cache: %.2f seconds\" % (end-start))"
   ]
  },
  {
   "cell_type": "code",
   "execution_count": 4,
   "metadata": {},
   "outputs": [
    {
     "name": "stdout",
     "output_type": "stream",
     "text": [
      "Downloading:  http://example.webscraping.com\n",
      "Downloading:  http://example.webscraping.com/places/default/index/1\n",
      "Downloading:  http://example.webscraping.com/places/default/index/2\n",
      "Downloading:  http://example.webscraping.com/places/default/index/0\n",
      "Downloading:  http://example.webscraping.com/places/default/view/Barbados-20\n",
      "Downloading:  http://example.webscraping.com/places/default/view/Bangladesh-19\n",
      "Downloading:  http://example.webscraping.com/places/default/view/Bahrain-18\n",
      "Downloading:  http://example.webscraping.com/places/default/view/Bahamas-17\n",
      "Downloading:  http://example.webscraping.com/places/default/view/Azerbaijan-16\n",
      "Downloading:  http://example.webscraping.com/places/default/view/Austria-15\n",
      "Downloading:  http://example.webscraping.com/places/default/view/Australia-14\n",
      "Downloading:  http://example.webscraping.com/places/default/view/Aruba-13\n",
      "Downloading:  http://example.webscraping.com/places/default/view/Armenia-12\n",
      "Downloading:  http://example.webscraping.com/places/default/view/Argentina-11\n",
      "Downloading:  http://example.webscraping.com/places/default/view/Antigua-and-Barbuda-10\n",
      "Downloading:  http://example.webscraping.com/places/default/view/Antarctica-9\n",
      "Downloading:  http://example.webscraping.com/places/default/view/Anguilla-8\n",
      "Downloading:  http://example.webscraping.com/places/default/view/Angola-7\n",
      "Downloading:  http://example.webscraping.com/places/default/view/Andorra-6\n",
      "Downloading:  http://example.webscraping.com/places/default/view/American-Samoa-5\n",
      "Downloading:  http://example.webscraping.com/places/default/view/Algeria-4\n",
      "Downloading:  http://example.webscraping.com/places/default/view/Albania-3\n",
      "Downloading:  http://example.webscraping.com/places/default/view/Aland-Islands-2\n",
      "Downloading:  http://example.webscraping.com/places/default/view/Afghanistan-1\n",
      "Downloading:  http://example.webscraping.com/places/default/index\n"
     ]
    }
   ],
   "source": [
    "all_links = link_crawler('http://example.webscraping.com', '/(index|view)', max_depth=2, cache=DiskCache(expires=timedelta(seconds=5)))"
   ]
  },
  {
   "cell_type": "code",
   "execution_count": 2,
   "metadata": {},
   "outputs": [
    {
     "name": "stdout",
     "output_type": "stream",
     "text": [
      "download without cache: 0.42 seconds\n"
     ]
    }
   ],
   "source": [
    "db_cache = DBCache()\n",
    "\n",
    "start = time.time()\n",
    "all_links = link_crawler('http://example.webscraping.com', '/(index|view)', max_depth=2, cache=db_cache)\n",
    "end = time.time()\n",
    "print(\"download without cache: %.2f seconds\" % (end-start))"
   ]
  },
  {
   "cell_type": "code",
   "execution_count": 3,
   "metadata": {},
   "outputs": [
    {
     "name": "stdout",
     "output_type": "stream",
     "text": [
      "download with cache: 0.43 seconds\n"
     ]
    }
   ],
   "source": [
    "start = time.time()\n",
    "all_links = link_crawler('http://example.webscraping.com', '/(index|view)', max_depth=2, cache=db_cache)\n",
    "end = time.time()\n",
    "print(\"download with cache: %.2f seconds\" % (end-start))"
   ]
  },
  {
   "cell_type": "code",
   "execution_count": 3,
   "metadata": {},
   "outputs": [
    {
     "name": "stdout",
     "output_type": "stream",
     "text": [
      "timestamp_1\n",
      "download without cache: 0.40 seconds\n"
     ]
    }
   ],
   "source": [
    "db_cache.update_expire(expires=timedelta(seconds=5))\n",
    "start = time.time()\n",
    "all_links = link_crawler('http://example.webscraping.com', '/(index|view)', max_depth=2, cache=db_cache)\n",
    "end = time.time()\n",
    "print(\"download without cache: %.2f seconds\" % (end-start))"
   ]
  },
  {
   "cell_type": "code",
   "execution_count": 5,
   "metadata": {},
   "outputs": [
    {
     "name": "stdout",
     "output_type": "stream",
     "text": [
      "Downloading:  http://example.webscraping.com\n",
      "Downloading:  http://example.webscraping.com/places/default/index/1\n",
      "Downloading:  http://example.webscraping.com/places/default/index/2\n",
      "Downloading:  http://example.webscraping.com/places/default/index/0\n",
      "Downloading:  http://example.webscraping.com/places/default/view/Barbados-20\n",
      "Downloading:  http://example.webscraping.com/places/default/view/Bangladesh-19\n",
      "Downloading:  http://example.webscraping.com/places/default/view/Bahrain-18\n",
      "Downloading:  http://example.webscraping.com/places/default/view/Bahamas-17\n",
      "Downloading:  http://example.webscraping.com/places/default/view/Azerbaijan-16\n",
      "Downloading:  http://example.webscraping.com/places/default/view/Austria-15\n",
      "Downloading:  http://example.webscraping.com/places/default/view/Australia-14\n",
      "Downloading:  http://example.webscraping.com/places/default/view/Aruba-13\n",
      "Downloading:  http://example.webscraping.com/places/default/view/Armenia-12\n",
      "Downloading:  http://example.webscraping.com/places/default/view/Argentina-11\n",
      "Downloading:  http://example.webscraping.com/places/default/view/Antigua-and-Barbuda-10\n",
      "Downloading:  http://example.webscraping.com/places/default/view/Antarctica-9\n",
      "Downloading:  http://example.webscraping.com/places/default/view/Anguilla-8\n",
      "Downloading:  http://example.webscraping.com/places/default/view/Angola-7\n",
      "Downloading:  http://example.webscraping.com/places/default/view/Andorra-6\n",
      "Downloading:  http://example.webscraping.com/places/default/view/American-Samoa-5\n",
      "Downloading:  http://example.webscraping.com/places/default/view/Algeria-4\n",
      "Downloading:  http://example.webscraping.com/places/default/view/Albania-3\n",
      "Downloading:  http://example.webscraping.com/places/default/view/Aland-Islands-2\n",
      "Downloading:  http://example.webscraping.com/places/default/view/Afghanistan-1\n",
      "Downloading:  http://example.webscraping.com/places/default/index\n",
      "download without cache: 83.03 seconds\n"
     ]
    }
   ],
   "source": [
    "start = time.time()\n",
    "all_links = link_crawler('http://example.webscraping.com', '/(index|view)', max_depth=2, cache=db_cache)\n",
    "end = time.time()\n",
    "print(\"download without cache: %.2f seconds\" % (end-start))"
   ]
  },
  {
   "cell_type": "code",
   "execution_count": null,
   "metadata": {
    "collapsed": true
   },
   "outputs": [],
   "source": []
  }
 ],
 "metadata": {
  "kernelspec": {
   "display_name": "Python 3",
   "language": "python",
   "name": "python3"
  },
  "language_info": {
   "codemirror_mode": {
    "name": "ipython",
    "version": 3
   },
   "file_extension": ".py",
   "mimetype": "text/x-python",
   "name": "python",
   "nbconvert_exporter": "python",
   "pygments_lexer": "ipython3",
   "version": "3.6.1"
  }
 },
 "nbformat": 4,
 "nbformat_minor": 2
}
