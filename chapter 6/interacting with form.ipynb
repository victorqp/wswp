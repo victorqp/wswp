{
 "cells": [
  {
   "cell_type": "code",
   "execution_count": 70,
   "metadata": {
    "collapsed": true
   },
   "outputs": [],
   "source": [
    "import urllib.parse as urlparse\n",
    "import urllib.request as urlreq\n",
    "import glob\n",
    "import sqlite3\n",
    "import os\n",
    "import http.cookiejar as cookielib\n",
    "import json\n",
    "import time\n",
    "import lxml.html\n",
    "\n",
    "\n",
    "LOGIN_EMAIL = 'b@gm.com'\n",
    "LOGIN_PASSWORD = '1234567'\n",
    "LOGIN_URL = 'http://example.webscraping.com/places/default/user/login'\n",
    "\n",
    "\n",
    "def login_basic():\n",
    "    \"\"\"fails because not using formkey\n",
    "    \"\"\"\n",
    "    data = {'email': LOGIN_EMAIL, 'password': LOGIN_PASSWORD}\n",
    "    encoded_data = urlparse.urlencode(data).encode()\n",
    "    request = urlreq.Request(LOGIN_URL, encoded_data)\n",
    "    response = urlreq.urlopen(request)\n",
    "    print(response.geturl())\n",
    "\n",
    "\n",
    "def login_formkey():\n",
    "    \"\"\"fails because not using cookies to match formkey\n",
    "    \"\"\"\n",
    "    html = urlreq.urlopen(LOGIN_URL).read()\n",
    "    data = parse_form(html)\n",
    "    data['email'] = LOGIN_EMAIL\n",
    "    data['password'] = LOGIN_PASSWORD\n",
    "    encoded_data = urlparse.urlencode(data).encode()\n",
    "    request = urlreq.Request(LOGIN_URL, encoded_data)\n",
    "    response = urlreq.urlopen(request)\n",
    "    print (response.geturl())\n",
    "\n",
    "\n",
    "def login_cookies():\n",
    "    \"\"\"working login\n",
    "    \"\"\"\n",
    "    cj = cookielib.CookieJar()\n",
    "    opener = urlreq.build_opener(urlreq.HTTPCookieProcessor(cj))\n",
    "    html = opener.open(LOGIN_URL).read()\n",
    "    data = parse_form(html)\n",
    "    data['email'] = LOGIN_EMAIL\n",
    "    data['password'] = LOGIN_PASSWORD\n",
    "    encoded_data = urlparse.urlencode(data).encode()\n",
    "    request = urlreq.Request(LOGIN_URL, encoded_data)\n",
    "    response = opener.open(request)\n",
    "    print (response.geturl())\n",
    "    return opener\n",
    "\n",
    "\n",
    "def login_firefox():\n",
    "    \"\"\"load cookies from firefox\n",
    "    \"\"\"\n",
    "    session_filename = find_ff_sessions()\n",
    "    cj = load_ff_sessions(session_filename)\n",
    "    opener = urlreq.build_opener(urlreq.HTTPCookieProcessor(cj))\n",
    "    html = opener.open(COUNTRY_URL).read()\n",
    "\n",
    "    tree = lxml.html.fromstring(html)\n",
    "    print (tree.cssselect('ul#navbar li a')[0].text_content())\n",
    "    return opener\n",
    "\n",
    "\n",
    "def parse_form(html):\n",
    "    \"\"\"extract all input properties from the form\n",
    "    \"\"\"\n",
    "    tree = lxml.html.fromstring(html)\n",
    "    data = {}\n",
    "    for e in tree.cssselect('form input'):\n",
    "        if e.get('name'):\n",
    "            data[e.get('name')] = e.get('value')\n",
    "    return data\n",
    "\n",
    "\n",
    "\n",
    "def load_ff_sessions(session_filename):\n",
    "    cj = cookielib.CookieJar()\n",
    "    if os.path.exists(session_filename):  \n",
    "        try: \n",
    "            json_data = json.loads(open(session_filename, 'rb').read())\n",
    "        except ValueError as e:\n",
    "            print ('Error parsing session JSON:', str(e))\n",
    "        else:\n",
    "            for window in json_data.get('windows', []):\n",
    "                for cookie in window.get('cookies', []):\n",
    "                    import pprint; pprint.pprint(cookie)\n",
    "                    c = cookielib.Cookie(0, cookie.get('name', ''), cookie.get('value', ''), \n",
    "                        None, False, \n",
    "                        cookie.get('host', ''), cookie.get('host', '').startswith('.'), cookie.get('host', '').startswith('.'), \n",
    "                        cookie.get('path', ''), False,\n",
    "                        False, str(int(time.time()) + 3600 * 24 * 7), False, \n",
    "                        None, None, {})\n",
    "                    cj.set_cookie(c)\n",
    "    else:\n",
    "        print ('Session filename does not exist:', session_filename)\n",
    "    return cj\n",
    "\n",
    "\n",
    "def find_ff_sessions():\n",
    "    paths = [\n",
    "        '~/.mozilla/firefox/*.default',\n",
    "        '~/Library/Application Support/Firefox/Profiles/*.default',\n",
    "        '%APPDATA%/Roaming/Mozilla/Firefox/Profiles/*.default'\n",
    "    ]\n",
    "    for path in paths:\n",
    "        filename = os.path.join(path, 'sessionstore.js')\n",
    "        matches = glob.glob(os.path.expanduser(filename))\n",
    "        if matches:\n",
    "            return matches[0]"
   ]
  },
  {
   "cell_type": "code",
   "execution_count": 71,
   "metadata": {},
   "outputs": [
    {
     "name": "stdout",
     "output_type": "stream",
     "text": [
      "http://example.webscraping.com/places/default/user/login\n"
     ]
    }
   ],
   "source": [
    "login_basic()"
   ]
  },
  {
   "cell_type": "code",
   "execution_count": 72,
   "metadata": {},
   "outputs": [
    {
     "name": "stdout",
     "output_type": "stream",
     "text": [
      "http://example.webscraping.com/places/default/user/login\n"
     ]
    }
   ],
   "source": [
    "login_formkey()"
   ]
  },
  {
   "cell_type": "code",
   "execution_count": 73,
   "metadata": {},
   "outputs": [
    {
     "name": "stdout",
     "output_type": "stream",
     "text": [
      "http://example.webscraping.com/places/default/index\n"
     ]
    }
   ],
   "source": [
    "opener = login_cookies()"
   ]
  },
  {
   "cell_type": "code",
   "execution_count": 74,
   "metadata": {},
   "outputs": [
    {
     "ename": "TypeError",
     "evalue": "stat: path should be string, bytes, os.PathLike or integer, not NoneType",
     "output_type": "error",
     "traceback": [
      "\u001b[1;31m---------------------------------------------------------------------------\u001b[0m",
      "\u001b[1;31mTypeError\u001b[0m                                 Traceback (most recent call last)",
      "\u001b[1;32m<ipython-input-74-645ddf4026fb>\u001b[0m in \u001b[0;36m<module>\u001b[1;34m()\u001b[0m\n\u001b[1;32m----> 1\u001b[1;33m \u001b[0mlogin_firefox\u001b[0m\u001b[1;33m(\u001b[0m\u001b[1;33m)\u001b[0m\u001b[1;33m\u001b[0m\u001b[0m\n\u001b[0m",
      "\u001b[1;32m<ipython-input-70-44776f1bd04f>\u001b[0m in \u001b[0;36mlogin_firefox\u001b[1;34m()\u001b[0m\n\u001b[0;32m     58\u001b[0m     \"\"\"\n\u001b[0;32m     59\u001b[0m     \u001b[0msession_filename\u001b[0m \u001b[1;33m=\u001b[0m \u001b[0mfind_ff_sessions\u001b[0m\u001b[1;33m(\u001b[0m\u001b[1;33m)\u001b[0m\u001b[1;33m\u001b[0m\u001b[0m\n\u001b[1;32m---> 60\u001b[1;33m     \u001b[0mcj\u001b[0m \u001b[1;33m=\u001b[0m \u001b[0mload_ff_sessions\u001b[0m\u001b[1;33m(\u001b[0m\u001b[0msession_filename\u001b[0m\u001b[1;33m)\u001b[0m\u001b[1;33m\u001b[0m\u001b[0m\n\u001b[0m\u001b[0;32m     61\u001b[0m     \u001b[0mopener\u001b[0m \u001b[1;33m=\u001b[0m \u001b[0murlreq\u001b[0m\u001b[1;33m.\u001b[0m\u001b[0mbuild_opener\u001b[0m\u001b[1;33m(\u001b[0m\u001b[0murlreq\u001b[0m\u001b[1;33m.\u001b[0m\u001b[0mHTTPCookieProcessor\u001b[0m\u001b[1;33m(\u001b[0m\u001b[0mcj\u001b[0m\u001b[1;33m)\u001b[0m\u001b[1;33m)\u001b[0m\u001b[1;33m\u001b[0m\u001b[0m\n\u001b[0;32m     62\u001b[0m     \u001b[0mhtml\u001b[0m \u001b[1;33m=\u001b[0m \u001b[0mopener\u001b[0m\u001b[1;33m.\u001b[0m\u001b[0mopen\u001b[0m\u001b[1;33m(\u001b[0m\u001b[0mCOUNTRY_URL\u001b[0m\u001b[1;33m)\u001b[0m\u001b[1;33m.\u001b[0m\u001b[0mread\u001b[0m\u001b[1;33m(\u001b[0m\u001b[1;33m)\u001b[0m\u001b[1;33m\u001b[0m\u001b[0m\n",
      "\u001b[1;32m<ipython-input-70-44776f1bd04f>\u001b[0m in \u001b[0;36mload_ff_sessions\u001b[1;34m(session_filename)\u001b[0m\n\u001b[0;32m     81\u001b[0m \u001b[1;32mdef\u001b[0m \u001b[0mload_ff_sessions\u001b[0m\u001b[1;33m(\u001b[0m\u001b[0msession_filename\u001b[0m\u001b[1;33m)\u001b[0m\u001b[1;33m:\u001b[0m\u001b[1;33m\u001b[0m\u001b[0m\n\u001b[0;32m     82\u001b[0m     \u001b[0mcj\u001b[0m \u001b[1;33m=\u001b[0m \u001b[0mcookielib\u001b[0m\u001b[1;33m.\u001b[0m\u001b[0mCookieJar\u001b[0m\u001b[1;33m(\u001b[0m\u001b[1;33m)\u001b[0m\u001b[1;33m\u001b[0m\u001b[0m\n\u001b[1;32m---> 83\u001b[1;33m     \u001b[1;32mif\u001b[0m \u001b[0mos\u001b[0m\u001b[1;33m.\u001b[0m\u001b[0mpath\u001b[0m\u001b[1;33m.\u001b[0m\u001b[0mexists\u001b[0m\u001b[1;33m(\u001b[0m\u001b[0msession_filename\u001b[0m\u001b[1;33m)\u001b[0m\u001b[1;33m:\u001b[0m\u001b[1;33m\u001b[0m\u001b[0m\n\u001b[0m\u001b[0;32m     84\u001b[0m         \u001b[1;32mtry\u001b[0m\u001b[1;33m:\u001b[0m\u001b[1;33m\u001b[0m\u001b[0m\n\u001b[0;32m     85\u001b[0m             \u001b[0mjson_data\u001b[0m \u001b[1;33m=\u001b[0m \u001b[0mjson\u001b[0m\u001b[1;33m.\u001b[0m\u001b[0mloads\u001b[0m\u001b[1;33m(\u001b[0m\u001b[0mopen\u001b[0m\u001b[1;33m(\u001b[0m\u001b[0msession_filename\u001b[0m\u001b[1;33m,\u001b[0m \u001b[1;34m'rb'\u001b[0m\u001b[1;33m)\u001b[0m\u001b[1;33m.\u001b[0m\u001b[0mread\u001b[0m\u001b[1;33m(\u001b[0m\u001b[1;33m)\u001b[0m\u001b[1;33m)\u001b[0m\u001b[1;33m\u001b[0m\u001b[0m\n",
      "\u001b[1;32mC:\\Users\\Peng\\Anaconda3\\lib\\genericpath.py\u001b[0m in \u001b[0;36mexists\u001b[1;34m(path)\u001b[0m\n\u001b[0;32m     17\u001b[0m     \u001b[1;34m\"\"\"Test whether a path exists.  Returns False for broken symbolic links\"\"\"\u001b[0m\u001b[1;33m\u001b[0m\u001b[0m\n\u001b[0;32m     18\u001b[0m     \u001b[1;32mtry\u001b[0m\u001b[1;33m:\u001b[0m\u001b[1;33m\u001b[0m\u001b[0m\n\u001b[1;32m---> 19\u001b[1;33m         \u001b[0mos\u001b[0m\u001b[1;33m.\u001b[0m\u001b[0mstat\u001b[0m\u001b[1;33m(\u001b[0m\u001b[0mpath\u001b[0m\u001b[1;33m)\u001b[0m\u001b[1;33m\u001b[0m\u001b[0m\n\u001b[0m\u001b[0;32m     20\u001b[0m     \u001b[1;32mexcept\u001b[0m \u001b[0mOSError\u001b[0m\u001b[1;33m:\u001b[0m\u001b[1;33m\u001b[0m\u001b[0m\n\u001b[0;32m     21\u001b[0m         \u001b[1;32mreturn\u001b[0m \u001b[1;32mFalse\u001b[0m\u001b[1;33m\u001b[0m\u001b[0m\n",
      "\u001b[1;31mTypeError\u001b[0m: stat: path should be string, bytes, os.PathLike or integer, not NoneType"
     ]
    }
   ],
   "source": [
    "login_firefox()"
   ]
  },
  {
   "cell_type": "code",
   "execution_count": 75,
   "metadata": {},
   "outputs": [],
   "source": [
    "COUNTRY_URL = 'http://example.webscraping.com/places/default/edit/Afghanistan-1'\n",
    "\n",
    "def edit_country():\n",
    "    opener = login_cookies()\n",
    "    country_html = opener.open(COUNTRY_URL).read()\n",
    "    data = parse_form(country_html)\n",
    "    import pprint; pprint.pprint(data)\n",
    "    print('Population before: ' + data['population'])\n",
    "    data['population'] = int(data['population']) + 1\n",
    "    encoded_data = urlparse.urlencode(data).encode()\n",
    "    request = urlreq.Request(COUNTRY_URL, encoded_data)\n",
    "    response = opener.open(request)\n",
    "\n",
    "    country_html = opener.open(COUNTRY_URL).read()\n",
    "    data = parse_form(country_html)\n",
    "    print('Population after:', data['population'])"
   ]
  },
  {
   "cell_type": "code",
   "execution_count": 76,
   "metadata": {},
   "outputs": [
    {
     "name": "stdout",
     "output_type": "stream",
     "text": [
      "http://example.webscraping.com/places/default/index\n",
      "{'_formkey': '478274c2-7580-4fc0-b760-e5d15644df54',\n",
      " '_formname': 'places/2163421',\n",
      " 'area': '647500.00',\n",
      " 'capital': 'Kabul',\n",
      " 'continent': 'AS',\n",
      " 'country': 'Afghanistan',\n",
      " 'currency_code': 'AFN',\n",
      " 'currency_name': 'Afghani',\n",
      " 'id': '2163421',\n",
      " 'iso': 'AF',\n",
      " 'languages': 'fa-AF,ps,uz-AF,tk',\n",
      " 'neighbours': 'TM,CN,IR,TJ,PK,UZ',\n",
      " 'phone': '93',\n",
      " 'population': '29121286',\n",
      " 'postal_code_format': '',\n",
      " 'postal_code_regex': '',\n",
      " 'tld': '.af'}\n",
      "Population before: 29121286\n",
      "Population after: 29121287\n"
     ]
    }
   ],
   "source": [
    "edit_country()"
   ]
  },
  {
   "cell_type": "code",
   "execution_count": 81,
   "metadata": {},
   "outputs": [],
   "source": [
    "import bs4\n",
    "import requests\n",
    "\n",
    "def bs4_edit():\n",
    "    \"\"\"Use beautifulsoup4 to increment population\n",
    "    \"\"\"\n",
    "    # login\n",
    "    sess = requests.Session()\n",
    "    soup = bs4.BeautifulSoup(sess.get(LOGIN_URL).content)\n",
    "    form = soup.find('form')\n",
    "    fields = form.findAll('input')\n",
    "    print(fields)\n",
    "\n",
    "    formdata = dict( (field.get('name'), field.get('value')) for field in fields)\n",
    "\n",
    "    formdata['email'] = LOGIN_EMAIL\n",
    "    formdata['password'] = LOGIN_PASSWORD\n",
    "\n",
    "    print(formdata)\n",
    "    posturl = urlparse.urljoin(LOGIN_URL, form['action'])\n",
    "    print(posturl)\n",
    "\n",
    "    resp = sess.post(posturl, data=formdata)\n",
    "    print(resp.url) \n",
    "\n",
    "    # edit country\n",
    "    soup = bs4.BeautifulSoup(sess.get(COUNTRY_URL).content)\n",
    "    form = soup.find('form')\n",
    "    fields = form.findAll('input')\n",
    "    formdata = dict( (field.get('name'), field.get('value')) for field in fields)\n",
    "    print('Population before:', formdata['population'])\n",
    "    formdata['population'] = str(int(formdata['population']) + 1)\n",
    "    print(formdata)\n",
    "    posturl = urlparse.urljoin(COUNTRY_URL, form['action'])\n",
    "    print(posturl)\n",
    "\n",
    "    resp = sess.post(posturl, data=formdata)\n",
    "\n",
    "    # check population increased\n",
    "    soup = bs4.BeautifulSoup(sess.get(COUNTRY_URL).content)\n",
    "    form = soup.find('form')\n",
    "    fields = form.findAll('input')\n",
    "    formdata = dict( (field.get('name'), field.get('value')) for field in fields)\n",
    "    print('Population after:', formdata['population'])\n"
   ]
  },
  {
   "cell_type": "code",
   "execution_count": 82,
   "metadata": {},
   "outputs": [
    {
     "name": "stderr",
     "output_type": "stream",
     "text": [
      "C:\\Users\\Peng\\Anaconda3\\lib\\site-packages\\bs4\\__init__.py:181: UserWarning: No parser was explicitly specified, so I'm using the best available HTML parser for this system (\"lxml\"). This usually isn't a problem, but if you run this code on another system, or in a different virtual environment, it may use a different parser and behave differently.\n",
      "\n",
      "The code that caused this warning is on line 193 of the file C:\\Users\\Peng\\Anaconda3\\lib\\runpy.py. To get rid of this warning, change code that looks like this:\n",
      "\n",
      " BeautifulSoup(YOUR_MARKUP})\n",
      "\n",
      "to this:\n",
      "\n",
      " BeautifulSoup(YOUR_MARKUP, \"lxml\")\n",
      "\n",
      "  markup_type=markup_type))\n"
     ]
    },
    {
     "name": "stdout",
     "output_type": "stream",
     "text": [
      "[<input class=\"string\" id=\"auth_user_email\" name=\"email\" type=\"text\" value=\"\"/>, <input class=\"password\" id=\"auth_user_password\" name=\"password\" type=\"password\" value=\"\"/>, <input class=\"boolean\" id=\"auth_user_remember_me\" name=\"remember_me\" type=\"checkbox\" value=\"on\"/>, <input type=\"submit\" value=\"Log In\"/>, <input name=\"_next\" type=\"hidden\" value=\"/places/default/index\"/>, <input name=\"_formkey\" type=\"hidden\" value=\"a5305586-f506-4736-9289-78b04883eacd\"/>, <input name=\"_formname\" type=\"hidden\" value=\"login\"/>]\n",
      "{'email': 'b@gm.com', 'password': '1234567', 'remember_me': 'on', None: 'Log In', '_next': '/places/default/index', '_formkey': 'a5305586-f506-4736-9289-78b04883eacd', '_formname': 'login'}\n",
      "http://example.webscraping.com/places/default/user/login\n",
      "http://example.webscraping.com/places/default/index\n",
      "Population before: 29121288\n",
      "{'area': '647500.00', 'population': '29121289', 'iso': 'AF', 'country': 'Afghanistan', 'capital': 'Kabul', 'continent': 'AS', 'tld': '.af', 'currency_code': 'AFN', 'currency_name': 'Afghani', 'phone': '93', 'postal_code_format': '', 'postal_code_regex': '', 'languages': 'fa-AF,ps,uz-AF,tk', 'neighbours': 'TM,CN,IR,TJ,PK,UZ', None: 'Update', 'id': '2163421', '_formkey': 'bac7b8ed-916a-411c-b0af-dc87b33397fc', '_formname': 'places/2163421'}\n",
      "http://example.webscraping.com/places/default/edit/Afghanistan-1\n",
      "Population after: 29121289\n"
     ]
    }
   ],
   "source": [
    "bs4_edit()"
   ]
  },
  {
   "cell_type": "code",
   "execution_count": null,
   "metadata": {
    "collapsed": true
   },
   "outputs": [],
   "source": []
  }
 ],
 "metadata": {
  "kernelspec": {
   "display_name": "Python 3",
   "language": "python",
   "name": "python3"
  },
  "language_info": {
   "codemirror_mode": {
    "name": "ipython",
    "version": 3
   },
   "file_extension": ".py",
   "mimetype": "text/x-python",
   "name": "python",
   "nbconvert_exporter": "python",
   "pygments_lexer": "ipython3",
   "version": "3.6.1"
  }
 },
 "nbformat": 4,
 "nbformat_minor": 2
}
